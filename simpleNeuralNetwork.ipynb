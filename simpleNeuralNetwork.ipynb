{
 "cells": [
  {
   "cell_type": "markdown",
   "id": "d180489f",
   "metadata": {
    "collapsed": false
   },
   "source": [
    "# My Simple Neural Network"
   ]
  },
  {
   "cell_type": "markdown",
   "id": "c2a036ec",
   "metadata": {
    "collapsed": false
   },
   "source": [
    "## Import the necessary libraries (one that is a python file that I created with the neural network)"
   ]
  },
  {
   "cell_type": "code",
   "execution_count": 1,
   "id": "f1075f2d",
   "metadata": {
    "collapsed": false
   },
   "outputs": [],
   "source": [
    "import pandas as pd\n",
    "from simpleNeuralNetwork import NeuralNetwork"
   ]
  },
  {
   "cell_type": "markdown",
   "id": "d3343739",
   "metadata": {
    "collapsed": false
   },
   "source": [
    "## Import the MNIST dataset and **try** to train the network (because didn't work)"
   ]
  },
  {
   "cell_type": "code",
   "execution_count": null,
   "id": "c0a03749",
   "metadata": {
    "collapsed": false
   },
   "outputs": [],
   "source": [
    "train_data = pd.read_csv(\"../datasets/MNIST/train.csv\")\n",
    "test_data = pd.read_csv(\"../datasets/MNIST/test.csv\")\n",
    "train_data = train_data.sample(frac=1, random_state=1).reset_index(drop=True)\n",
    "\n",
    "X_train = train_data.drop(\"label\", axis=1)\n",
    "y_train = train_data.label\n",
    "\n",
    "model = NeuralNetwork()\n",
    "learning_rate = 0.001\n",
    "epochs = 200\n",
    "model.train(X_train, y_train, learning_rate, epochs)"
   ]
  },
  {
   "cell_type": "markdown",
   "id": "629cc121",
   "metadata": {
    "collapsed": false
   },
   "source": [
    "## Show the prediction of the machine and shows the image that was the output"
   ]
  },
  {
   "cell_type": "code",
   "execution_count": 10,
   "id": "3215e0f2",
   "metadata": {
    "collapsed": false
   },
   "outputs": [
    {
     "name": "stdout",
     "output_type": "stream",
     "text": [
      "Prediction: [[0]]\n",
      "Image:\n"
     ]
    },
    {
     "data": {
      "image/png": "[encoded data removed]",
      "text/plain": [
       "<Figure size 432x288 with 1 Axes>"
      ]
     },
     "metadata": {
      "needs_background": "light"
     },
     "output_type": "display_data"
    }
   ],
   "source": [
    "model.test_prediction(60, test_data)"
   ]
  },
  {
   "cell_type": "code",
   "execution_count": null,
   "id": "18b5db88",
   "metadata": {
    "collapsed": false
   },
   "outputs": [],
   "source": []
  }
 ],
 "metadata": {
  "kernelspec": {
   "argv": [
    "/home/prado/.anaconda3/bin/python",
    "-m",
    "ipykernel_launcher",
    "-f",
    "{connection_file}"
   ],
   "display_name": "Python 3 (ipykernel)",
   "env": null,
   "interrupt_mode": "signal",
   "language": "python",
   "metadata": {
    "debugger": true
   },
   "name": "python3"
  },
  "language_info": {
   "codemirror_mode": {
    "name": "ipython",
    "version": 3
   },
   "file_extension": ".py",
   "mimetype": "text/x-python",
   "name": "python",
   "nbconvert_exporter": "python",
   "pygments_lexer": "ipython3",
   "version": "3.9.12"
  },
  "name": "simpleNeuralNetwork.ipynb"
 },
 "nbformat": 4,
 "nbformat_minor": 5
}
